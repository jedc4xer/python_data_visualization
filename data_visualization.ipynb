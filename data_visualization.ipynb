{
 "cells": [
  {
   "cell_type": "code",
   "execution_count": 2,
   "id": "9aaa0fd7-7315-44bb-ab47-9bac1346150a",
   "metadata": {},
   "outputs": [
    {
     "data": {
      "text/html": [
       "<div>\n",
       "<style scoped>\n",
       "    .dataframe tbody tr th:only-of-type {\n",
       "        vertical-align: middle;\n",
       "    }\n",
       "\n",
       "    .dataframe tbody tr th {\n",
       "        vertical-align: top;\n",
       "    }\n",
       "\n",
       "    .dataframe thead th {\n",
       "        text-align: right;\n",
       "    }\n",
       "</style>\n",
       "<table border=\"1\" class=\"dataframe\">\n",
       "  <thead>\n",
       "    <tr style=\"text-align: right;\">\n",
       "      <th></th>\n",
       "      <th>num_employees</th>\n",
       "      <th>num_firms</th>\n",
       "      <th>sales_value_revenue</th>\n",
       "      <th>annual_payroll</th>\n",
       "      <th>owner_gender</th>\n",
       "      <th>sales_receipts</th>\n",
       "    </tr>\n",
       "  </thead>\n",
       "  <tbody>\n",
       "    <tr>\n",
       "      <th>0</th>\n",
       "      <td>15314</td>\n",
       "      <td>9215</td>\n",
       "      <td>21517</td>\n",
       "      <td>546489</td>\n",
       "      <td>Female</td>\n",
       "      <td>less than $5,000</td>\n",
       "    </tr>\n",
       "    <tr>\n",
       "      <th>1</th>\n",
       "      <td>8142</td>\n",
       "      <td>10991</td>\n",
       "      <td>76594</td>\n",
       "      <td>164749</td>\n",
       "      <td>Female</td>\n",
       "      <td>$5,000 - $9,999</td>\n",
       "    </tr>\n",
       "    <tr>\n",
       "      <th>2</th>\n",
       "      <td>25214</td>\n",
       "      <td>30810</td>\n",
       "      <td>521026</td>\n",
       "      <td>427736</td>\n",
       "      <td>Female</td>\n",
       "      <td>$10,000 - $24,999</td>\n",
       "    </tr>\n",
       "    <tr>\n",
       "      <th>3</th>\n",
       "      <td>63658</td>\n",
       "      <td>60628</td>\n",
       "      <td>2268029</td>\n",
       "      <td>873403</td>\n",
       "      <td>Female</td>\n",
       "      <td>$25,000 - $49,999</td>\n",
       "    </tr>\n",
       "    <tr>\n",
       "      <th>4</th>\n",
       "      <td>174545</td>\n",
       "      <td>132652</td>\n",
       "      <td>9842692</td>\n",
       "      <td>3143466</td>\n",
       "      <td>Female</td>\n",
       "      <td>$50,000 - $99,999</td>\n",
       "    </tr>\n",
       "  </tbody>\n",
       "</table>\n",
       "</div>"
      ],
      "text/plain": [
       "   num_employees  num_firms  sales_value_revenue  annual_payroll owner_gender  \\\n",
       "0          15314       9215                21517          546489       Female   \n",
       "1           8142      10991                76594          164749       Female   \n",
       "2          25214      30810               521026          427736       Female   \n",
       "3          63658      60628              2268029          873403       Female   \n",
       "4         174545     132652              9842692         3143466       Female   \n",
       "\n",
       "      sales_receipts  \n",
       "0   less than $5,000  \n",
       "1    $5,000 - $9,999  \n",
       "2  $10,000 - $24,999  \n",
       "3  $25,000 - $49,999  \n",
       "4  $50,000 - $99,999  "
      ]
     },
     "execution_count": 2,
     "metadata": {},
     "output_type": "execute_result"
    }
   ],
   "source": [
    "import matplotlib.pyplot as plt\n",
    "import seaborn as sns\n",
    "import pandas as pd\n",
    "\n",
    "sales_receipts_by_gender_df = pd.read_csv('cleaned_datasets/sales_receipts_by_gender.csv')\n",
    "\n",
    "sales_receipts_by_gender_df.head()"
   ]
  },
  {
   "cell_type": "code",
   "execution_count": 4,
   "id": "7429cf8d-032b-4255-93d5-1a65f5980004",
   "metadata": {},
   "outputs": [
    {
     "data": {
      "text/html": [
       "<div>\n",
       "<style scoped>\n",
       "    .dataframe tbody tr th:only-of-type {\n",
       "        vertical-align: middle;\n",
       "    }\n",
       "\n",
       "    .dataframe tbody tr th {\n",
       "        vertical-align: top;\n",
       "    }\n",
       "\n",
       "    .dataframe thead th {\n",
       "        text-align: right;\n",
       "    }\n",
       "</style>\n",
       "<table border=\"1\" class=\"dataframe\">\n",
       "  <thead>\n",
       "    <tr style=\"text-align: right;\">\n",
       "      <th></th>\n",
       "      <th>num_employees</th>\n",
       "      <th>num_firms</th>\n",
       "      <th>sales_value_revenue</th>\n",
       "      <th>annual_payroll</th>\n",
       "      <th>owner_gender</th>\n",
       "      <th>sales_receipts</th>\n",
       "    </tr>\n",
       "  </thead>\n",
       "  <tbody>\n",
       "    <tr>\n",
       "      <th>0</th>\n",
       "      <td>15314</td>\n",
       "      <td>9215</td>\n",
       "      <td>21517</td>\n",
       "      <td>546489</td>\n",
       "      <td>Female</td>\n",
       "      <td>less than $5,000</td>\n",
       "    </tr>\n",
       "    <tr>\n",
       "      <th>13</th>\n",
       "      <td>37884</td>\n",
       "      <td>20933</td>\n",
       "      <td>48775</td>\n",
       "      <td>2112856</td>\n",
       "      <td>Male</td>\n",
       "      <td>less than $5,000</td>\n",
       "    </tr>\n",
       "    <tr>\n",
       "      <th>21</th>\n",
       "      <td>4960</td>\n",
       "      <td>4966</td>\n",
       "      <td>11224</td>\n",
       "      <td>128925</td>\n",
       "      <td>Equally Male/Female</td>\n",
       "      <td>less than $5,000</td>\n",
       "    </tr>\n",
       "    <tr>\n",
       "      <th>27</th>\n",
       "      <td>23903</td>\n",
       "      <td>762</td>\n",
       "      <td>1418</td>\n",
       "      <td>2522056</td>\n",
       "      <td>Unclassifiable</td>\n",
       "      <td>less than $5,000</td>\n",
       "    </tr>\n",
       "    <tr>\n",
       "      <th>36</th>\n",
       "      <td>58159</td>\n",
       "      <td>35113</td>\n",
       "      <td>81516</td>\n",
       "      <td>2788270</td>\n",
       "      <td>Classifiable</td>\n",
       "      <td>less than $5,000</td>\n",
       "    </tr>\n",
       "  </tbody>\n",
       "</table>\n",
       "</div>"
      ],
      "text/plain": [
       "    num_employees  num_firms  sales_value_revenue  annual_payroll  \\\n",
       "0           15314       9215                21517          546489   \n",
       "13          37884      20933                48775         2112856   \n",
       "21           4960       4966                11224          128925   \n",
       "27          23903        762                 1418         2522056   \n",
       "36          58159      35113                81516         2788270   \n",
       "\n",
       "           owner_gender    sales_receipts  \n",
       "0                Female  less than $5,000  \n",
       "13                 Male  less than $5,000  \n",
       "21  Equally Male/Female  less than $5,000  \n",
       "27       Unclassifiable  less than $5,000  \n",
       "36         Classifiable  less than $5,000  "
      ]
     },
     "execution_count": 4,
     "metadata": {},
     "output_type": "execute_result"
    }
   ],
   "source": [
    "less_than_5k = sales_receipts_by_gender_df[(sales_receipts_by_gender_df['sales_receipts'] == 'less than $5,000')]\n",
    "less_than_5k"
   ]
  },
  {
   "cell_type": "code",
   "execution_count": 7,
   "id": "45945157-5d3c-42df-b0df-d253e77fa39c",
   "metadata": {},
   "outputs": [
    {
     "ename": "AttributeError",
     "evalue": "module 'seaborn' has no attribute 'show'",
     "output_type": "error",
     "traceback": [
      "\u001b[1;31m---------------------------------------------------------------------------\u001b[0m",
      "\u001b[1;31mAttributeError\u001b[0m                            Traceback (most recent call last)",
      "\u001b[1;32m~\\AppData\\Local\\Temp/ipykernel_20208/1179966044.py\u001b[0m in \u001b[0;36m<module>\u001b[1;34m\u001b[0m\n\u001b[0;32m     18\u001b[0m     \u001b[0msns\u001b[0m\u001b[1;33m.\u001b[0m\u001b[0mshow\u001b[0m\u001b[1;33m(\u001b[0m\u001b[1;33m)\u001b[0m\u001b[1;33m\u001b[0m\u001b[1;33m\u001b[0m\u001b[0m\n\u001b[0;32m     19\u001b[0m \u001b[1;33m\u001b[0m\u001b[0m\n\u001b[1;32m---> 20\u001b[1;33m \u001b[0mplot_data\u001b[0m\u001b[1;33m(\u001b[0m\u001b[0mless_than_5k\u001b[0m\u001b[1;33m)\u001b[0m\u001b[1;33m\u001b[0m\u001b[1;33m\u001b[0m\u001b[0m\n\u001b[0m",
      "\u001b[1;32m~\\AppData\\Local\\Temp/ipykernel_20208/1179966044.py\u001b[0m in \u001b[0;36mplot_data\u001b[1;34m(df)\u001b[0m\n\u001b[0;32m     16\u001b[0m \u001b[1;33m\u001b[0m\u001b[0m\n\u001b[0;32m     17\u001b[0m     \u001b[0msns\u001b[0m\u001b[1;33m.\u001b[0m\u001b[0mcatplot\u001b[0m\u001b[1;33m(\u001b[0m\u001b[0mdata\u001b[0m \u001b[1;33m=\u001b[0m \u001b[0mdf\u001b[0m\u001b[1;33m,\u001b[0m \u001b[0mx\u001b[0m \u001b[1;33m=\u001b[0m \u001b[1;34m'owner_gender'\u001b[0m\u001b[1;33m,\u001b[0m \u001b[0my\u001b[0m \u001b[1;33m=\u001b[0m \u001b[1;34m'num_employees'\u001b[0m\u001b[1;33m)\u001b[0m\u001b[1;33m\u001b[0m\u001b[1;33m\u001b[0m\u001b[0m\n\u001b[1;32m---> 18\u001b[1;33m     \u001b[0msns\u001b[0m\u001b[1;33m.\u001b[0m\u001b[0mshow\u001b[0m\u001b[1;33m(\u001b[0m\u001b[1;33m)\u001b[0m\u001b[1;33m\u001b[0m\u001b[1;33m\u001b[0m\u001b[0m\n\u001b[0m\u001b[0;32m     19\u001b[0m \u001b[1;33m\u001b[0m\u001b[0m\n\u001b[0;32m     20\u001b[0m \u001b[0mplot_data\u001b[0m\u001b[1;33m(\u001b[0m\u001b[0mless_than_5k\u001b[0m\u001b[1;33m)\u001b[0m\u001b[1;33m\u001b[0m\u001b[1;33m\u001b[0m\u001b[0m\n",
      "\u001b[1;31mAttributeError\u001b[0m: module 'seaborn' has no attribute 'show'"
     ]
    },
    {
     "data": {
      "image/png": "[encoded data removed]",
      "text/plain": [
       "<Figure size 1224x576 with 4 Axes>"
      ]
     },
     "metadata": {},
     "output_type": "display_data"
    },
    {
     "data": {
      "image/png": "[encoded data removed]",
      "text/plain": [
       "<Figure size 360x360 with 1 Axes>"
      ]
     },
     "metadata": {},
     "output_type": "display_data"
    }
   ],
   "source": [
    "def plot_data(df):\n",
    "    sns.set_style(\n",
    "        \"ticks\", {\n",
    "            'xtick.color': 'black',\n",
    "            'axes.grid': True\n",
    "        }\n",
    "    )\n",
    "    \n",
    "    fig, axs = plt.subplots(4, \n",
    "                           figsize = (17,8),\n",
    "                           gridspec_kw = {\n",
    "                               'height_ratios': [1,1,1,1]\n",
    "                           },\n",
    "                           sharex = False\n",
    "                           )\n",
    "    \n",
    "    sns.catplot(data = df, x = 'owner_gender', y = 'num_employees')\n",
    "    sns.show()\n",
    "\n",
    "plot_data(less_than_5k)"
   ]
  },
  {
   "cell_type": "code",
   "execution_count": null,
   "id": "6105548a-4cae-4308-9744-0b6964d60ea5",
   "metadata": {},
   "outputs": [],
   "source": []
  }
 ],
 "metadata": {
  "kernelspec": {
   "display_name": "Python 3 (ipykernel)",
   "language": "python",
   "name": "python3"
  },
  "language_info": {
   "codemirror_mode": {
    "name": "ipython",
    "version": 3
   },
   "file_extension": ".py",
   "mimetype": "text/x-python",
   "name": "python",
   "nbconvert_exporter": "python",
   "pygments_lexer": "ipython3",
   "version": "3.9.7"
  }
 },
 "nbformat": 4,
 "nbformat_minor": 5
}
